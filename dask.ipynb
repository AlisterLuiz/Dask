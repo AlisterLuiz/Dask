{
 "cells": [
  {
   "attachments": {},
   "cell_type": "markdown",
   "metadata": {},
   "source": [
    "# Dask - A Faster Alternative to Pandas\n",
    "\n",
    "This notebook compares the performance of Dask and Pandas on large datasets."
   ]
  },
  {
   "attachments": {},
   "cell_type": "markdown",
   "metadata": {},
   "source": [
    "We will be comparing the following -\n",
    "- Reading Large Dataset\n",
    "- Grouping By and Aggregation\n",
    "- Merging Datasets\n",
    "- Filtering Data\n",
    "- Apply Function\n",
    "- Distributed Computing"
   ]
  },
  {
   "attachments": {},
   "cell_type": "markdown",
   "metadata": {},
   "source": [
    "My Current Device Specs -\n",
    "\n",
    "- OS - Windows 11\n",
    "- Processor - 11th Gen Intel(R) Core(TM) i9-11900K @ 3.50GHz\n",
    "- RAM - 32 GB\n",
    "- Cores - 8\n",
    "- GPU - NVIDIA Geforce RTX 3060\n"
   ]
  },
  {
   "attachments": {},
   "cell_type": "markdown",
   "metadata": {},
   "source": [
    "Dask Documentation - [LINK](https://docs.dask.org/en/stable/)"
   ]
  },
  {
   "attachments": {},
   "cell_type": "markdown",
   "metadata": {},
   "source": [
    "__Libraries Used:__\n",
    "\n",
    "1. [Pandas](https://pandas.pydata.org/)\n",
    "2. [Dask](https://www.dask.org/)\n",
    "3. [Time](https://docs.python.org/3/library/time.html)\n",
    "4. [Numpy](https://numpy.org/)"
   ]
  },
  {
   "attachments": {},
   "cell_type": "markdown",
   "metadata": {},
   "source": [
    "__Let's get started!__\n",
    "\n",
    "First let's install the libraries and import it"
   ]
  },
  {
   "cell_type": "code",
   "execution_count": 109,
   "metadata": {},
   "outputs": [
    {
     "name": "stdout",
     "output_type": "stream",
     "text": [
      "Note: you may need to restart the kernel to use updated packages.\n",
      "Note: you may need to restart the kernel to use updated packages.\n",
      "Note: you may need to restart the kernel to use updated packages.\n"
     ]
    }
   ],
   "source": [
    "%pip install -q pandas\n",
    "%pip install -q dask\n",
    "%pip install -q numpy"
   ]
  },
  {
   "cell_type": "code",
   "execution_count": 110,
   "metadata": {},
   "outputs": [],
   "source": [
    "import pandas as pd\n",
    "import dask.dataframe as dd\n",
    "import time\n",
    "import numpy as np"
   ]
  },
  {
   "attachments": {},
   "cell_type": "markdown",
   "metadata": {},
   "source": [
    "### Reading Large Dataset\n",
    "\n",
    "Lets read a dataframe with 50 million rows and 3 columns respectively."
   ]
  },
  {
   "cell_type": "code",
   "execution_count": 111,
   "metadata": {},
   "outputs": [],
   "source": [
    "pd.DataFrame({\n",
    "               'A': np.random.randint(0, 100, size=10000000),\n",
    "               'B': np.random.randint(0, 100, size=10000000),\n",
    "               'C': np.random.randint(0, 100, size=10000000),\n",
    "              }).to_csv('dataset.csv', index=False)"
   ]
  },
  {
   "cell_type": "code",
   "execution_count": 112,
   "metadata": {},
   "outputs": [
    {
     "name": "stdout",
     "output_type": "stream",
     "text": [
      "Pandas: shape = (10000000, 3), time = 0.9480597972869873 seconds\n"
     ]
    }
   ],
   "source": [
    "start_time = time.time()\n",
    "df = pd.read_csv('dataset.csv')\n",
    "pandas_time = time.time() - start_time\n",
    "print(f\"Pandas: shape = {df.shape}, time = {pandas_time} seconds\")\n"
   ]
  },
  {
   "cell_type": "code",
   "execution_count": 113,
   "metadata": {},
   "outputs": [
    {
     "name": "stdout",
     "output_type": "stream",
     "text": [
      "Dask: shape = (10000000, 3), time = 0.00696563720703125 seconds\n"
     ]
    }
   ],
   "source": [
    "# Read the same file using Dask\n",
    "start_time = time.time()\n",
    "dask_df = dd.read_csv('dataset.csv')\n",
    "dask_time = time.time() - start_time\n",
    "print(f\"Dask: shape = {dask_df.compute().shape}, time = {dask_time} seconds\")"
   ]
  },
  {
   "cell_type": "code",
   "execution_count": 114,
   "metadata": {},
   "outputs": [
    {
     "data": {
      "text/html": [
       "<div>\n",
       "<style scoped>\n",
       "    .dataframe tbody tr th:only-of-type {\n",
       "        vertical-align: middle;\n",
       "    }\n",
       "\n",
       "    .dataframe tbody tr th {\n",
       "        vertical-align: top;\n",
       "    }\n",
       "\n",
       "    .dataframe thead th {\n",
       "        text-align: right;\n",
       "    }\n",
       "</style>\n",
       "<table border=\"1\" class=\"dataframe\">\n",
       "  <thead>\n",
       "    <tr style=\"text-align: right;\">\n",
       "      <th></th>\n",
       "      <th>A</th>\n",
       "      <th>B</th>\n",
       "      <th>C</th>\n",
       "    </tr>\n",
       "  </thead>\n",
       "  <tbody>\n",
       "    <tr>\n",
       "      <th>0</th>\n",
       "      <td>49</td>\n",
       "      <td>52</td>\n",
       "      <td>73</td>\n",
       "    </tr>\n",
       "    <tr>\n",
       "      <th>1</th>\n",
       "      <td>32</td>\n",
       "      <td>64</td>\n",
       "      <td>97</td>\n",
       "    </tr>\n",
       "    <tr>\n",
       "      <th>2</th>\n",
       "      <td>85</td>\n",
       "      <td>26</td>\n",
       "      <td>5</td>\n",
       "    </tr>\n",
       "    <tr>\n",
       "      <th>3</th>\n",
       "      <td>97</td>\n",
       "      <td>76</td>\n",
       "      <td>18</td>\n",
       "    </tr>\n",
       "    <tr>\n",
       "      <th>4</th>\n",
       "      <td>36</td>\n",
       "      <td>17</td>\n",
       "      <td>68</td>\n",
       "    </tr>\n",
       "  </tbody>\n",
       "</table>\n",
       "</div>"
      ],
      "text/plain": [
       "    A   B   C\n",
       "0  49  52  73\n",
       "1  32  64  97\n",
       "2  85  26   5\n",
       "3  97  76  18\n",
       "4  36  17  68"
      ]
     },
     "execution_count": 114,
     "metadata": {},
     "output_type": "execute_result"
    }
   ],
   "source": [
    "df.head()"
   ]
  },
  {
   "cell_type": "code",
   "execution_count": 115,
   "metadata": {},
   "outputs": [
    {
     "data": {
      "text/html": [
       "<div>\n",
       "<style scoped>\n",
       "    .dataframe tbody tr th:only-of-type {\n",
       "        vertical-align: middle;\n",
       "    }\n",
       "\n",
       "    .dataframe tbody tr th {\n",
       "        vertical-align: top;\n",
       "    }\n",
       "\n",
       "    .dataframe thead th {\n",
       "        text-align: right;\n",
       "    }\n",
       "</style>\n",
       "<table border=\"1\" class=\"dataframe\">\n",
       "  <thead>\n",
       "    <tr style=\"text-align: right;\">\n",
       "      <th></th>\n",
       "      <th>A</th>\n",
       "      <th>B</th>\n",
       "      <th>C</th>\n",
       "    </tr>\n",
       "  </thead>\n",
       "  <tbody>\n",
       "    <tr>\n",
       "      <th>0</th>\n",
       "      <td>49</td>\n",
       "      <td>52</td>\n",
       "      <td>73</td>\n",
       "    </tr>\n",
       "    <tr>\n",
       "      <th>1</th>\n",
       "      <td>32</td>\n",
       "      <td>64</td>\n",
       "      <td>97</td>\n",
       "    </tr>\n",
       "    <tr>\n",
       "      <th>2</th>\n",
       "      <td>85</td>\n",
       "      <td>26</td>\n",
       "      <td>5</td>\n",
       "    </tr>\n",
       "    <tr>\n",
       "      <th>3</th>\n",
       "      <td>97</td>\n",
       "      <td>76</td>\n",
       "      <td>18</td>\n",
       "    </tr>\n",
       "    <tr>\n",
       "      <th>4</th>\n",
       "      <td>36</td>\n",
       "      <td>17</td>\n",
       "      <td>68</td>\n",
       "    </tr>\n",
       "  </tbody>\n",
       "</table>\n",
       "</div>"
      ],
      "text/plain": [
       "    A   B   C\n",
       "0  49  52  73\n",
       "1  32  64  97\n",
       "2  85  26   5\n",
       "3  97  76  18\n",
       "4  36  17  68"
      ]
     },
     "execution_count": 115,
     "metadata": {},
     "output_type": "execute_result"
    }
   ],
   "source": [
    "dask_df.head()"
   ]
  },
  {
   "attachments": {},
   "cell_type": "markdown",
   "metadata": {},
   "source": [
    "### Grouping By and Aggregation"
   ]
  },
  {
   "cell_type": "code",
   "execution_count": 116,
   "metadata": {},
   "outputs": [
    {
     "name": "stdout",
     "output_type": "stream",
     "text": [
      "Pandas: Time = 0.450380802154541 seconds\n"
     ]
    }
   ],
   "source": [
    "# Time the groupby operation using Pandas\n",
    "start_time = time.time()\n",
    "pandas_grouped = df.groupby(['A', 'B']).agg({'C': 'sum'})\n",
    "pandas_time = time.time() - start_time\n",
    "print(f\"Pandas: Time = {pandas_time} seconds\")"
   ]
  },
  {
   "cell_type": "code",
   "execution_count": 117,
   "metadata": {},
   "outputs": [
    {
     "name": "stdout",
     "output_type": "stream",
     "text": [
      "Dask: Time = 0.005944252014160156 seconds\n"
     ]
    }
   ],
   "source": [
    "# Time the groupby operation using Dask\n",
    "start_time = time.time()\n",
    "dask_groupby = dask_df.groupby(['A', 'B']).agg({'C': 'sum'})\n",
    "dask_time = time.time() - start_time\n",
    "print(f\"Dask: Time = {dask_time} seconds\")"
   ]
  },
  {
   "attachments": {},
   "cell_type": "markdown",
   "metadata": {},
   "source": [
    "### Merging Datasets"
   ]
  },
  {
   "cell_type": "code",
   "execution_count": 118,
   "metadata": {},
   "outputs": [
    {
     "name": "stdout",
     "output_type": "stream",
     "text": [
      "Pandas: Time = 6.819661378860474 seconds\n"
     ]
    }
   ],
   "source": [
    "# Merge using Pandas\n",
    "start_time = time.time()\n",
    "merged_pandas = pd.merge(df, df)\n",
    "pandas_time = time.time() - start_time\n",
    "print(f\"Pandas: Time = {pandas_time} seconds\")"
   ]
  },
  {
   "cell_type": "code",
   "execution_count": 119,
   "metadata": {},
   "outputs": [
    {
     "name": "stdout",
     "output_type": "stream",
     "text": [
      "Dask: Time = 0.012986898422241211 seconds\n"
     ]
    }
   ],
   "source": [
    "# Merge using Dask\n",
    "start_time = time.time()\n",
    "merged_dask = dd.merge(dask_df, dask_df)\n",
    "dask_time = time.time() - start_time\n",
    "print(f\"Dask: Time = {dask_time} seconds\")"
   ]
  },
  {
   "attachments": {},
   "cell_type": "markdown",
   "metadata": {},
   "source": [
    "### Filtering Data"
   ]
  },
  {
   "cell_type": "code",
   "execution_count": 120,
   "metadata": {},
   "outputs": [
    {
     "name": "stdout",
     "output_type": "stream",
     "text": [
      "Pandas: Time = 0.024980783462524414 seconds\n"
     ]
    }
   ],
   "source": [
    "# Filtering using Pandas\n",
    "start_time = time.time()\n",
    "selected_pandas = df[df['A'] > 5000000]\n",
    "pandas_time = time.time() - start_time\n",
    "print(f\"Pandas: Time = {pandas_time} seconds\")"
   ]
  },
  {
   "cell_type": "code",
   "execution_count": 121,
   "metadata": {},
   "outputs": [
    {
     "name": "stdout",
     "output_type": "stream",
     "text": [
      "Dask: Time = 0.0059452056884765625 seconds\n"
     ]
    }
   ],
   "source": [
    "# Filtering using Dask\n",
    "start_time = time.time()\n",
    "selected_dask = dask_df[dask_df['A'] > 5000000]\n",
    "dask_time = time.time() - start_time\n",
    "print(f\"Dask: Time = {dask_time} seconds\")"
   ]
  },
  {
   "attachments": {},
   "cell_type": "markdown",
   "metadata": {},
   "source": [
    "### Apply Function"
   ]
  },
  {
   "cell_type": "code",
   "execution_count": 122,
   "metadata": {},
   "outputs": [],
   "source": [
    "# Function to perform Apply on\n",
    "def my_function(x):\n",
    "    return x * 2"
   ]
  },
  {
   "cell_type": "code",
   "execution_count": 123,
   "metadata": {},
   "outputs": [
    {
     "name": "stdout",
     "output_type": "stream",
     "text": [
      "Pandas: Time = 2.7721312046051025 seconds\n"
     ]
    }
   ],
   "source": [
    "# Filtering using Pandas\n",
    "start_time = time.time()\n",
    "applied_pandas = df['A'].apply(my_function)\n",
    "pandas_time = time.time() - start_time\n",
    "print(f\"Pandas: Time = {pandas_time} seconds\")"
   ]
  },
  {
   "cell_type": "code",
   "execution_count": 124,
   "metadata": {},
   "outputs": [
    {
     "name": "stdout",
     "output_type": "stream",
     "text": [
      "Dask: Time = 0.001998424530029297 seconds\n"
     ]
    }
   ],
   "source": [
    "# Filtering using Dask\n",
    "start_time = time.time()\n",
    "applied_dask = dask_df['A'].map(my_function)\n",
    "dask_time = time.time() - start_time\n",
    "print(f\"Dask: Time = {dask_time} seconds\")"
   ]
  },
  {
   "cell_type": "markdown",
   "metadata": {},
   "source": [
    "### Distributed Computing"
   ]
  },
  {
   "cell_type": "code",
   "execution_count": 125,
   "metadata": {},
   "outputs": [
    {
     "name": "stdout",
     "output_type": "stream",
     "text": [
      "Dask: Time = 0.008009672164916992 seconds\n"
     ]
    }
   ],
   "source": [
    "# Compute the sum of column A using Dask on a distributed cluster\n",
    "start_time = time.time()\n",
    "applied_dask = dask_df['A'].map_partitions(my_function)\n",
    "dask_time = time.time() - start_time\n",
    "print(f\"Dask: Time = {dask_time} seconds\")"
   ]
  }
 ],
 "metadata": {
  "kernelspec": {
   "display_name": "base",
   "language": "python",
   "name": "python3"
  },
  "language_info": {
   "codemirror_mode": {
    "name": "ipython",
    "version": 3
   },
   "file_extension": ".py",
   "mimetype": "text/x-python",
   "name": "python",
   "nbconvert_exporter": "python",
   "pygments_lexer": "ipython3",
   "version": "3.9.12"
  },
  "orig_nbformat": 4
 },
 "nbformat": 4,
 "nbformat_minor": 2
}
